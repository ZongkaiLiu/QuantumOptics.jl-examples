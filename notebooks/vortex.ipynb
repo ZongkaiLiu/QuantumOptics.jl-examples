{
 "cells": [
  {
   "cell_type": "markdown",
   "metadata": {},
   "source": [
    "# Quantum Vortices"
   ]
  },
  {
   "cell_type": "markdown",
   "metadata": {},
   "source": [
    "In this example, we will implement the Gross–Pitaevskii equation to find the vortex solution for a 2D Bose-Einstein condensate trapped in a harmonic potential. "
   ]
  },
  {
   "cell_type": "markdown",
   "metadata": {},
   "source": [
    "The time-independent Gross–Pitaevskii equation is\n",
    "\n",
    "$i \\hbar \\frac{\\partial \\Psi (\\mathbf{r},t)}{\\partial t} = \\left(-\\frac{\\hbar^2}{2m} \\nabla^2 + V(\\mathbf{r}) + g |\\Psi (\\mathbf{r},t)|^2 \\right) \\Psi (\\mathbf{r},t) $,\n",
    "\n",
    "where $\\Psi (\\mathbf{r},t)$ is the condensate wavefunction, $V(\\mathbf{r})$ is an external potential, and $g$ describes interactions between particles.\n"
   ]
  },
  {
   "cell_type": "markdown",
   "metadata": {},
   "source": [
    "In order to generate vortices, we have to add a rotational term to the effective Hamiltonian\n",
    "\n",
    "$\\Omega \\left( x  p_y  - y p_x \\right)$,\n",
    "\n",
    "where $\\Omega$ is the angular velocity, and find the groundstate of the system. This part is tricky because the Hamiltonian depends on the wavefunction so we cannot simply diagonalize it. However, we can use some alternative methods such as imaginary time evolution which simply damps out all the excited states from an arbitrary initial state leaving us with the groundstate only. Numerical generation of vortices is quite challenging so we will use a couple of tricks in this code to help them to emerge."
   ]
  },
  {
   "cell_type": "markdown",
   "metadata": {},
   "source": [
    "We proceed as usual by loading the needed libraries, defining the parameters and the Hilbert space and the operators of the system."
   ]
  },
  {
   "cell_type": "code",
   "execution_count": null,
   "metadata": {},
   "outputs": [],
   "source": [
    "using QuantumOptics\n",
    "using PyPlot "
   ]
  },
  {
   "cell_type": "markdown",
   "metadata": {},
   "source": [
    "The first trick we will use is the introduction of a slight asymetry to the harmonic trap"
   ]
  },
  {
   "cell_type": "code",
   "execution_count": null,
   "metadata": {},
   "outputs": [],
   "source": [
    "ωx = 1; # harmonic potential frequency x\n",
    "ωy = (1 + 10^-3); # harmonic potential frequency y, 10^-3 introduces a slight asymetry\n",
    "m = 1; # mass of an atom\n",
    "Ω = 0.6; # angular velocity\n",
    "\n",
    "r = 5 # size of the space\n",
    "\n",
    "# position Basis\n",
    "nx=64; bx = PositionBasis(-r, r, nx); # position basis size nx\n",
    "ny=64; by = PositionBasis(-r, r, ny); # position basis size nx\n",
    "\n",
    "# momentum Basis\n",
    "bpx = MomentumBasis(bx);\n",
    "bpy = MomentumBasis(by);\n",
    "\n",
    "# position operators in position space\n",
    "x  =   position(bx)⊗one(by); # position operator\n",
    "y  =   one(bx)⊗position(by); # position operator\n",
    "\n",
    "# momentum operators in momentum space\n",
    "Px = momentum(bpx) ⊗ one(bpy) \n",
    "Py = one(bpx) ⊗ momentum(bpy);"
   ]
  },
  {
   "cell_type": "markdown",
   "metadata": {},
   "source": [
    "To speed up the calculations a little bit, we will also use the split-step method"
   ]
  },
  {
   "cell_type": "code",
   "execution_count": null,
   "metadata": {},
   "outputs": [],
   "source": [
    "# composite bases\n",
    "compbx = bx ⊗ by\n",
    "compbp = bpx ⊗ bpy\n",
    "\n",
    "# FFT\n",
    "Txp = transform(compbx, compbp)\n",
    "Tpx = transform(compbp, compbx) \n",
    "\n",
    "#kinetic Energy\n",
    "Hkin = Px^2/2m + Py^2/2m # kinetic energy in momentum space\n",
    "\n",
    "Hkin_FFT = LazyProduct(Txp, Hkin, Tpx) # lazy tensor for the split-step method\n",
    "\n",
    "# rotation\n",
    "# lazy prodycts for the split-step method\n",
    "Hrot_1 = -1*LazyProduct(x,Txp,Py,Tpx)\n",
    "Hrot_2 = 1*LazyProduct(y,Txp,Px,Tpx)\n",
    "\n",
    "# harmonic potential\n",
    "Hhar = 0.5*(ωx^2*x^2+ωy^2*y^2);"
   ]
  },
  {
   "cell_type": "markdown",
   "metadata": {},
   "source": [
    "Finally, we can prepare initial state and damp all the excited states. The closer we are to the ground state the faster we get to the actual ground state."
   ]
  },
  {
   "cell_type": "code",
   "execution_count": null,
   "metadata": {},
   "outputs": [],
   "source": [
    "#initial state\n",
    "p1 = 0\n",
    "p2 = 0\n",
    "σx = 3\n",
    "σy = 3\n",
    "\n",
    "ϕin = gaussianstate(bx, 0, p1, σx)⊗gaussianstate(by, 0, p2, σy)\n",
    "normalize!(ϕin);"
   ]
  },
  {
   "cell_type": "markdown",
   "metadata": {},
   "source": [
    "Let's see how the initial state looks like:"
   ]
  },
  {
   "cell_type": "code",
   "execution_count": null,
   "metadata": {},
   "outputs": [],
   "source": [
    "density = Array(transpose(reshape((abs2.(ϕin.data)), (nx, ny))));\n",
    "phase = Array(transpose(reshape((angle.(ϕin.data)), (nx, ny))));\n",
    "figure(figsize=(12, 4))\n",
    "subplot(1,2,1)\n",
    "title(\"density\")\n",
    "imshow(density)\n",
    "colorbar()\n",
    "axis(\"off\")\n",
    "subplot(1,2,2)\n",
    "title(\"phase\")\n",
    "imshow(phase)\n",
    "colorbar()\n",
    "axis(\"off\");"
   ]
  },
  {
   "cell_type": "markdown",
   "metadata": {},
   "source": [
    " It is also a good idea to prepare a phase mask for the initial state. We will want to get two vortices so the phase has to jump twice."
   ]
  },
  {
   "cell_type": "code",
   "execution_count": null,
   "metadata": {},
   "outputs": [],
   "source": [
    "mask = Array{Complex{Float64}}(undef, 0)\n",
    "j = 2 # number of vortices\n",
    "for x = 1:nx\n",
    "    for y = 1:ny\n",
    "        push!(mask,exp(j*1im*atan(x-nx/2,y-ny/2))/2)\n",
    "    end\n",
    "end\n",
    "\n",
    "newstate = (abs.(ϕin.data)).*mask\n",
    "ϕin = Ket(compbx,newstate);"
   ]
  },
  {
   "cell_type": "markdown",
   "metadata": {},
   "source": [
    "And see once again the initial state"
   ]
  },
  {
   "cell_type": "code",
   "execution_count": null,
   "metadata": {},
   "outputs": [],
   "source": [
    "density = Array(transpose(reshape((abs2.(ϕin.data)), (nx, ny))));\n",
    "phase = Array(transpose(reshape((angle.(ϕin.data)), (nx, ny))));\n",
    "figure(figsize=(12, 4))\n",
    "subplot(1,2,1)\n",
    "title(\"density\")\n",
    "imshow(density)\n",
    "colorbar()\n",
    "axis(\"off\")\n",
    "subplot(1,2,2)\n",
    "title(\"phase\")\n",
    "imshow(phase)\n",
    "colorbar()\n",
    "axis(\"off\");"
   ]
  },
  {
   "cell_type": "markdown",
   "metadata": {},
   "source": [
    "We are now very close to the ground state. Let's kill the contributions from the excited states and get finally nice vortices. Another tricky thing that we have to take into account is the normalization of the wavefunction. In the imaginary time evolution the wavefunction amplitude decreases from step to step. We will normalize the wavefunction after every step."
   ]
  },
  {
   "cell_type": "code",
   "execution_count": null,
   "metadata": {},
   "outputs": [],
   "source": [
    "# GPE \n",
    "\n",
    "dx = 2r/nx\n",
    "g = 100. # interaction strength\n",
    "Hg = diagonaloperator(bx, Ket(bx).data)⊗diagonaloperator(by, Ket(by).data) # ∝ |ψ|^2\n",
    "\n",
    "H_tot = -1im*LazySum(Hkin_FFT, Hg, Ω*Hrot_1, Ω*Hrot_2, Hhar) # imaginary time evolution \n",
    "\n",
    "function Hgp(t, ψ) # Update state-dependent term in H\n",
    "    normalize!(ψ) # <- the wavefunction will be always normalized to 1\n",
    "    H_tot.operators[2].data.nzval .= g*abs2.(ψ.data)/(dx^2) # we need to update the second term in the Hamiltonian\n",
    "    return H_tot\n",
    "end\n",
    "\n",
    "# groundstate  \n",
    "\n",
    "# imaginary time evolution\n",
    "T = [0:0.42:4;]\n",
    "tout, ψt = timeevolution.schroedinger_dynamic(T, ϕin, Hgp)\n",
    "\n",
    "# this should be the ground state\n",
    "ϕ = ψt[end];"
   ]
  },
  {
   "cell_type": "markdown",
   "metadata": {},
   "source": [
    "Let's also see how the vortices emerged from our intial state"
   ]
  },
  {
   "cell_type": "code",
   "execution_count": null,
   "metadata": {},
   "outputs": [],
   "source": [
    "density = [Array(transpose(reshape((abs2.(ψ.data)), (nx, ny)))) for ψ=ψt ];\n",
    "figure(figsize=(12, 8))\n",
    "for i = 1:length(ψt)\n",
    "    subplot(4,5,i)\n",
    "    imshow(density[i])\n",
    "    axis(\"off\");\n",
    "end"
   ]
  },
  {
   "cell_type": "markdown",
   "metadata": {},
   "source": [
    "And also the phase which should not change too much"
   ]
  },
  {
   "cell_type": "code",
   "execution_count": null,
   "metadata": {},
   "outputs": [],
   "source": [
    "phase = [Array(transpose(reshape((angle.(ψ.data)), (nx, ny)))) for ψ=ψt ];\n",
    "figure(figsize=(12, 8))\n",
    "for i = 1:length(ψt)\n",
    "    subplot(4,5,i)\n",
    "    imshow(phase[i])\n",
    "    axis(\"off\");\n",
    "end"
   ]
  }
 ],
 "metadata": {
  "kernelspec": {
   "display_name": "Julia 1.4.0",
   "language": "julia",
   "name": "julia-1.4"
  },
  "language_info": {
   "file_extension": ".jl",
   "mimetype": "application/julia",
   "name": "julia",
   "version": "1.4.0"
  }
 },
 "nbformat": 4,
 "nbformat_minor": 2
}
